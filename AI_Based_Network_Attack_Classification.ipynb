{
  "cells": [
    {
      "cell_type": "markdown",
      "metadata": {
        "id": "view-in-github",
        "colab_type": "text"
      },
      "source": [
        "<a href=\"https://colab.research.google.com/github/JihunB/AI-Based-Network-Attack-Classification/blob/main/AI_Based_Network_Attack_Classification.ipynb\" target=\"_parent\"><img src=\"https://colab.research.google.com/assets/colab-badge.svg\" alt=\"Open In Colab\"/></a>"
      ]
    },
    {
      "cell_type": "code",
      "source": [
        "from google.colab import drive\n",
        "drive.mount('/content/drive')"
      ],
      "metadata": {
        "colab": {
          "base_uri": "https://localhost:8080/"
        },
        "id": "j-IJ0Fq8bBLn",
        "outputId": "a8c68bc7-6302-42d0-a939-79096f01bc5c"
      },
      "id": "j-IJ0Fq8bBLn",
      "execution_count": null,
      "outputs": [
        {
          "output_type": "stream",
          "name": "stdout",
          "text": [
            "Mounted at /content/drive\n"
          ]
        }
      ]
    },
    {
      "cell_type": "markdown",
      "source": [
        "### 1. 데이터 불러오고 분석하기"
      ],
      "metadata": {
        "id": "gWlLVoJem-Rb"
      },
      "id": "gWlLVoJem-Rb"
    },
    {
      "cell_type": "code",
      "execution_count": null,
      "id": "a7a187c1-6596-42f0-b81b-b8a048b29ab9",
      "metadata": {
        "id": "a7a187c1-6596-42f0-b81b-b8a048b29ab9"
      },
      "outputs": [],
      "source": [
        "# trainset 불러오기\n",
        "import pandas as pd\n",
        "from sklearn.ensemble import RandomForestClassifier\n",
        "from xgboost import XGBClassifier\n",
        "from sklearn.linear_model import LogisticRegression\n",
        "\n",
        "from sklearn.model_selection import train_test_split\n",
        "from sklearn.metrics import accuracy_score\n",
        "from sklearn.metrics import classification_report"
      ]
    },
    {
      "cell_type": "code",
      "source": [
        "url = '/content/drive/MyDrive/보안관제/trainset.csv'\n",
        "data = pd.read_csv(url)"
      ],
      "metadata": {
        "id": "f9ESlUV0cOnW"
      },
      "id": "f9ESlUV0cOnW",
      "execution_count": null,
      "outputs": []
    },
    {
      "cell_type": "code",
      "execution_count": null,
      "id": "f068d982-9905-48e7-8045-0ba43a672381",
      "metadata": {
        "id": "f068d982-9905-48e7-8045-0ba43a672381",
        "collapsed": true
      },
      "outputs": [],
      "source": [
        "# 데이터셋 확인\n",
        "data = pd.read_csv('trainset.csv')\n",
        "data.head(3)"
      ]
    },
    {
      "cell_type": "code",
      "source": [
        "# 컬럼이름, null값의 수, 데이터 타입\n",
        "data.info()"
      ],
      "metadata": {
        "colab": {
          "base_uri": "https://localhost:8080/"
        },
        "id": "g4Ob6-vfmmhY",
        "outputId": "2d7f6238-3860-4ef8-f4b4-bda5943afa53"
      },
      "id": "g4Ob6-vfmmhY",
      "execution_count": null,
      "outputs": [
        {
          "output_type": "stream",
          "name": "stdout",
          "text": [
            "<class 'pandas.core.frame.DataFrame'>\n",
            "RangeIndex: 220000 entries, 0 to 219999\n",
            "Data columns (total 2 columns):\n",
            " #   Column        Non-Null Count   Dtype \n",
            "---  ------        --------------   ----- \n",
            " 0   payload       220000 non-null  object\n",
            " 1   label_action  220000 non-null  object\n",
            "dtypes: object(2)\n",
            "memory usage: 3.4+ MB\n"
          ]
        }
      ]
    },
    {
      "cell_type": "code",
      "source": [
        "# 라벨별 데이터의 수\n",
        "data['label_action'].value_counts()"
      ],
      "metadata": {
        "colab": {
          "base_uri": "https://localhost:8080/",
          "height": 272
        },
        "id": "oZGUc5BImaE1",
        "outputId": "c0279799-90c9-4fef-b2a3-910e6c883ac6"
      },
      "id": "oZGUc5BImaE1",
      "execution_count": null,
      "outputs": [
        {
          "output_type": "execute_result",
          "data": {
            "text/plain": [
              "label_action\n",
              "Brute_Force             135037\n",
              "normal                   44000\n",
              "Cross_Site_Scripting     16542\n",
              "SQL_Injection            12525\n",
              "System_Cmd_Execution     11896\n",
              "Name: count, dtype: int64"
            ],
            "text/html": [
              "<div>\n",
              "<style scoped>\n",
              "    .dataframe tbody tr th:only-of-type {\n",
              "        vertical-align: middle;\n",
              "    }\n",
              "\n",
              "    .dataframe tbody tr th {\n",
              "        vertical-align: top;\n",
              "    }\n",
              "\n",
              "    .dataframe thead th {\n",
              "        text-align: right;\n",
              "    }\n",
              "</style>\n",
              "<table border=\"1\" class=\"dataframe\">\n",
              "  <thead>\n",
              "    <tr style=\"text-align: right;\">\n",
              "      <th></th>\n",
              "      <th>count</th>\n",
              "    </tr>\n",
              "    <tr>\n",
              "      <th>label_action</th>\n",
              "      <th></th>\n",
              "    </tr>\n",
              "  </thead>\n",
              "  <tbody>\n",
              "    <tr>\n",
              "      <th>Brute_Force</th>\n",
              "      <td>135037</td>\n",
              "    </tr>\n",
              "    <tr>\n",
              "      <th>normal</th>\n",
              "      <td>44000</td>\n",
              "    </tr>\n",
              "    <tr>\n",
              "      <th>Cross_Site_Scripting</th>\n",
              "      <td>16542</td>\n",
              "    </tr>\n",
              "    <tr>\n",
              "      <th>SQL_Injection</th>\n",
              "      <td>12525</td>\n",
              "    </tr>\n",
              "    <tr>\n",
              "      <th>System_Cmd_Execution</th>\n",
              "      <td>11896</td>\n",
              "    </tr>\n",
              "  </tbody>\n",
              "</table>\n",
              "</div><br><label><b>dtype:</b> int64</label>"
            ]
          },
          "metadata": {},
          "execution_count": 6
        }
      ]
    },
    {
      "cell_type": "code",
      "source": [
        "# 각 공격별 method와 version의 수를 알아보기 위한 컬럼 생성\n",
        "data1 = data.copy() # 원본 데이터 보존\n",
        "data1['method'] = data['payload'].str.split().str[0] # method\n",
        "data1['ver'] = data['payload'].str.split().str[1]    # ver"
      ],
      "metadata": {
        "id": "ddsKdH9ltuue"
      },
      "id": "ddsKdH9ltuue",
      "execution_count": null,
      "outputs": []
    },
    {
      "cell_type": "code",
      "source": [
        "# 각 공격일 때 method\n",
        "for la in ['Brute_Force', 'Cross_Site_Scripting', 'SQL_Injection', 'System_Cmd_Execution', 'normal']:\n",
        "    print(la, data1[data1['label_action']==la]['method'].value_counts())"
      ],
      "metadata": {
        "colab": {
          "base_uri": "https://localhost:8080/"
        },
        "id": "97DXhq0Stu4e",
        "outputId": "e051d295-8376-4e86-b029-6ad6ff55ec19"
      },
      "id": "97DXhq0Stu4e",
      "execution_count": null,
      "outputs": [
        {
          "output_type": "stream",
          "name": "stdout",
          "text": [
            "Brute_Force method\n",
            "POST    135037\n",
            "Name: count, dtype: int64\n",
            "Cross_Site_Scripting method\n",
            "GET     16093\n",
            "POST      449\n",
            "Name: count, dtype: int64\n",
            "SQL_Injection method\n",
            "GET     10378\n",
            "POST     2147\n",
            "Name: count, dtype: int64\n",
            "System_Cmd_Execution method\n",
            "GET     11567\n",
            "POST      329\n",
            "Name: count, dtype: int64\n",
            "normal method\n",
            "GET     40544\n",
            "POST     3456\n",
            "Name: count, dtype: int64\n"
          ]
        }
      ]
    },
    {
      "cell_type": "code",
      "source": [
        "# 각 공격일 때 http version\n",
        "for la in ['Brute_Force', 'Cross_Site_Scripting', 'SQL_Injection', 'System_Cmd_Execution', 'normal']:\n",
        "    print(la, data1[data1['label_action']==la]['ver'].value_counts())"
      ],
      "metadata": {
        "colab": {
          "base_uri": "https://localhost:8080/"
        },
        "id": "9t1qJWIEtu-a",
        "outputId": "9f6f25fd-f846-4545-e4bf-dd5700af9a64"
      },
      "id": "9t1qJWIEtu-a",
      "execution_count": null,
      "outputs": [
        {
          "output_type": "stream",
          "name": "stdout",
          "text": [
            "Brute_Force ver\n",
            "HTTP/1.0    126385\n",
            "HTTP/1.1      8652\n",
            "Name: count, dtype: int64\n",
            "Cross_Site_Scripting ver\n",
            "HTTP/1.1    16542\n",
            "Name: count, dtype: int64\n",
            "SQL_Injection ver\n",
            "HTTP/1.1    12525\n",
            "Name: count, dtype: int64\n",
            "System_Cmd_Execution ver\n",
            "HTTP/1.1    11853\n",
            "HTTP/1.0       43\n",
            "Name: count, dtype: int64\n",
            "normal ver\n",
            "HTTP/1.1    44000\n",
            "Name: count, dtype: int64\n"
          ]
        }
      ]
    },
    {
      "cell_type": "code",
      "source": [
        "# 페이로드를 공백 기준으로 나눴을 때 0번 단어의 종류와 수\n",
        "data['payload'].str.split().str[0].value_counts()"
      ],
      "metadata": {
        "colab": {
          "base_uri": "https://localhost:8080/",
          "height": 178
        },
        "id": "kxsdZ2EznGhX",
        "outputId": "4d898084-7a20-4cf7-936e-0f7b0c7b9f3a"
      },
      "id": "kxsdZ2EznGhX",
      "execution_count": null,
      "outputs": [
        {
          "output_type": "execute_result",
          "data": {
            "text/plain": [
              "payload\n",
              "POST    141418\n",
              "GET      78582\n",
              "Name: count, dtype: int64"
            ],
            "text/html": [
              "<div>\n",
              "<style scoped>\n",
              "    .dataframe tbody tr th:only-of-type {\n",
              "        vertical-align: middle;\n",
              "    }\n",
              "\n",
              "    .dataframe tbody tr th {\n",
              "        vertical-align: top;\n",
              "    }\n",
              "\n",
              "    .dataframe thead th {\n",
              "        text-align: right;\n",
              "    }\n",
              "</style>\n",
              "<table border=\"1\" class=\"dataframe\">\n",
              "  <thead>\n",
              "    <tr style=\"text-align: right;\">\n",
              "      <th></th>\n",
              "      <th>count</th>\n",
              "    </tr>\n",
              "    <tr>\n",
              "      <th>payload</th>\n",
              "      <th></th>\n",
              "    </tr>\n",
              "  </thead>\n",
              "  <tbody>\n",
              "    <tr>\n",
              "      <th>POST</th>\n",
              "      <td>141418</td>\n",
              "    </tr>\n",
              "    <tr>\n",
              "      <th>GET</th>\n",
              "      <td>78582</td>\n",
              "    </tr>\n",
              "  </tbody>\n",
              "</table>\n",
              "</div><br><label><b>dtype:</b> int64</label>"
            ]
          },
          "metadata": {},
          "execution_count": 8
        }
      ]
    },
    {
      "cell_type": "code",
      "source": [
        "data['payload'].str.split().str[1].value_counts()"
      ],
      "metadata": {
        "colab": {
          "base_uri": "https://localhost:8080/",
          "height": 178
        },
        "id": "5mQWnS9GnaUr",
        "outputId": "b36a59b4-a1e3-4fbc-cc4c-4a5fa896ce59"
      },
      "id": "5mQWnS9GnaUr",
      "execution_count": null,
      "outputs": [
        {
          "output_type": "execute_result",
          "data": {
            "text/plain": [
              "payload\n",
              "HTTP/1.0    126428\n",
              "HTTP/1.1     93572\n",
              "Name: count, dtype: int64"
            ],
            "text/html": [
              "<div>\n",
              "<style scoped>\n",
              "    .dataframe tbody tr th:only-of-type {\n",
              "        vertical-align: middle;\n",
              "    }\n",
              "\n",
              "    .dataframe tbody tr th {\n",
              "        vertical-align: top;\n",
              "    }\n",
              "\n",
              "    .dataframe thead th {\n",
              "        text-align: right;\n",
              "    }\n",
              "</style>\n",
              "<table border=\"1\" class=\"dataframe\">\n",
              "  <thead>\n",
              "    <tr style=\"text-align: right;\">\n",
              "      <th></th>\n",
              "      <th>count</th>\n",
              "    </tr>\n",
              "    <tr>\n",
              "      <th>payload</th>\n",
              "      <th></th>\n",
              "    </tr>\n",
              "  </thead>\n",
              "  <tbody>\n",
              "    <tr>\n",
              "      <th>HTTP/1.0</th>\n",
              "      <td>126428</td>\n",
              "    </tr>\n",
              "    <tr>\n",
              "      <th>HTTP/1.1</th>\n",
              "      <td>93572</td>\n",
              "    </tr>\n",
              "  </tbody>\n",
              "</table>\n",
              "</div><br><label><b>dtype:</b> int64</label>"
            ]
          },
          "metadata": {},
          "execution_count": 9
        }
      ]
    },
    {
      "cell_type": "code",
      "source": [
        "data['payload'].str.split().str[2].value_counts()"
      ],
      "metadata": {
        "colab": {
          "base_uri": "https://localhost:8080/",
          "height": 743
        },
        "id": "eYp_2W49nnWW",
        "outputId": "7e61c433-280c-4ce6-89af-55c82545afe4"
      },
      "id": "eYp_2W49nnWW",
      "execution_count": null,
      "outputs": [
        {
          "output_type": "execute_result",
          "data": {
            "text/plain": [
              "payload\n",
              "Mozilla/5.0               202338\n",
              "sqlmap/1.6.10#stable        9280\n",
              "Mozilla/5.00                4543\n",
              "sqlmap/1.6.7#stable         3723\n",
              "-                             43\n",
              "python-requests/2.19.1        34\n",
              "Hello,                        12\n",
              "sqlmap/1.5.7#stable            8\n",
              "python-urllib3/1.26.9          7\n",
              "Googlebot-Image/1.0            2\n",
              "Hakai/2.0                      1\n",
              "-8299'))                       1\n",
              "-5921'                         1\n",
              "-6533\\x22)))                   1\n",
              "python-requests/2.6.0          1\n",
              "-5439')                        1\n",
              "-5166\\x22)                     1\n",
              "KrebsOnSecurity                1\n",
              "-9783%'                        1\n",
              "-5546`                         1\n",
              "Name: count, dtype: int64"
            ],
            "text/html": [
              "<div>\n",
              "<style scoped>\n",
              "    .dataframe tbody tr th:only-of-type {\n",
              "        vertical-align: middle;\n",
              "    }\n",
              "\n",
              "    .dataframe tbody tr th {\n",
              "        vertical-align: top;\n",
              "    }\n",
              "\n",
              "    .dataframe thead th {\n",
              "        text-align: right;\n",
              "    }\n",
              "</style>\n",
              "<table border=\"1\" class=\"dataframe\">\n",
              "  <thead>\n",
              "    <tr style=\"text-align: right;\">\n",
              "      <th></th>\n",
              "      <th>count</th>\n",
              "    </tr>\n",
              "    <tr>\n",
              "      <th>payload</th>\n",
              "      <th></th>\n",
              "    </tr>\n",
              "  </thead>\n",
              "  <tbody>\n",
              "    <tr>\n",
              "      <th>Mozilla/5.0</th>\n",
              "      <td>202338</td>\n",
              "    </tr>\n",
              "    <tr>\n",
              "      <th>sqlmap/1.6.10#stable</th>\n",
              "      <td>9280</td>\n",
              "    </tr>\n",
              "    <tr>\n",
              "      <th>Mozilla/5.00</th>\n",
              "      <td>4543</td>\n",
              "    </tr>\n",
              "    <tr>\n",
              "      <th>sqlmap/1.6.7#stable</th>\n",
              "      <td>3723</td>\n",
              "    </tr>\n",
              "    <tr>\n",
              "      <th>-</th>\n",
              "      <td>43</td>\n",
              "    </tr>\n",
              "    <tr>\n",
              "      <th>python-requests/2.19.1</th>\n",
              "      <td>34</td>\n",
              "    </tr>\n",
              "    <tr>\n",
              "      <th>Hello,</th>\n",
              "      <td>12</td>\n",
              "    </tr>\n",
              "    <tr>\n",
              "      <th>sqlmap/1.5.7#stable</th>\n",
              "      <td>8</td>\n",
              "    </tr>\n",
              "    <tr>\n",
              "      <th>python-urllib3/1.26.9</th>\n",
              "      <td>7</td>\n",
              "    </tr>\n",
              "    <tr>\n",
              "      <th>Googlebot-Image/1.0</th>\n",
              "      <td>2</td>\n",
              "    </tr>\n",
              "    <tr>\n",
              "      <th>Hakai/2.0</th>\n",
              "      <td>1</td>\n",
              "    </tr>\n",
              "    <tr>\n",
              "      <th>-8299'))</th>\n",
              "      <td>1</td>\n",
              "    </tr>\n",
              "    <tr>\n",
              "      <th>-5921'</th>\n",
              "      <td>1</td>\n",
              "    </tr>\n",
              "    <tr>\n",
              "      <th>-6533\\x22)))</th>\n",
              "      <td>1</td>\n",
              "    </tr>\n",
              "    <tr>\n",
              "      <th>python-requests/2.6.0</th>\n",
              "      <td>1</td>\n",
              "    </tr>\n",
              "    <tr>\n",
              "      <th>-5439')</th>\n",
              "      <td>1</td>\n",
              "    </tr>\n",
              "    <tr>\n",
              "      <th>-5166\\x22)</th>\n",
              "      <td>1</td>\n",
              "    </tr>\n",
              "    <tr>\n",
              "      <th>KrebsOnSecurity</th>\n",
              "      <td>1</td>\n",
              "    </tr>\n",
              "    <tr>\n",
              "      <th>-9783%'</th>\n",
              "      <td>1</td>\n",
              "    </tr>\n",
              "    <tr>\n",
              "      <th>-5546`</th>\n",
              "      <td>1</td>\n",
              "    </tr>\n",
              "  </tbody>\n",
              "</table>\n",
              "</div><br><label><b>dtype:</b> int64</label>"
            ]
          },
          "metadata": {},
          "execution_count": 10
        }
      ]
    },
    {
      "cell_type": "code",
      "source": [
        "data['payload'].str.split().str[3].value_counts()"
      ],
      "metadata": {
        "colab": {
          "base_uri": "https://localhost:8080/",
          "height": 1000
        },
        "id": "fz0n4bVInsoZ",
        "outputId": "d6d24578-1a28-4e76-d5d1-c0b26f028c01"
      },
      "id": "fz0n4bVInsoZ",
      "execution_count": null,
      "outputs": [
        {
          "output_type": "execute_result",
          "data": {
            "text/plain": [
              "payload\n",
              "(Hydra)                                                      126385\n",
              "(Windows                                                      29911\n",
              "(Gecko)                                                       22840\n",
              "(https://sqlmap.org)                                          12987\n",
              "(compatible;                                                   7740\n",
              "(Linux                                                         4950\n",
              "(Nikto/2.1.6)                                                  4543\n",
              "(Intel                                                         1610\n",
              "(X11;                                                          1594\n",
              "(Macintosh;                                                    1223\n",
              "(68K;                                                          1079\n",
              "(PPC)                                                           981\n",
              "(68K)                                                           897\n",
              "(PPC;                                                           697\n",
              "(Linux;                                                         535\n",
              "(Win                                                            302\n",
              "(WindowsCE)                                                     209\n",
              "(Win3.11;                                                       191\n",
              "(WinNT3.51)                                                     180\n",
              "(iPhone;                                                        180\n",
              "(WinNT3.51;                                                     162\n",
              "(WinNT4.0;                                                      156\n",
              "(WindowsCE;                                                     137\n",
              "(Win3.11)                                                       133\n",
              "(WinNT4.0)                                                       85\n",
              "(Windows;                                                        73\n",
              "(iPad;                                                           44\n",
              "/setup.cgi                                                       43\n",
              "/j_spring_security_check                                         34\n",
              "(iPod;                                                           33\n",
              "world                                                            12\n",
              "(http://sqlmap.org)                                               8\n",
              "AppleWebKit/537.36                                                7\n",
              "ORDER                                                             6\n",
              "(SymbianOS/9.1;                                                   3\n",
              "(https://sqlmap.org)'                                             2\n",
              "/board/board_write                                                2\n",
              "(https://sqlmap.org)+(SELECT                                      2\n",
              "/fileRequest/download                                             2\n",
              "(https://sqlmap.org)))                                            2\n",
              "/board/board_list                                                 2\n",
              "(https://sqlmap.org))                                             1\n",
              "/shell                                                            1\n",
              "(https://sqlmap.org)')                                            1\n",
              "(https://sqlmap.org)\\x22))                                        1\n",
              "/data/goods/1/2022/10/_temp_16660731198066list1.png               1\n",
              "(https://sqlmap.org)`                                             1\n",
              "(https://sqlmap.org)]-(SELECT                                     1\n",
              "(Maemo;                                                           1\n",
              "(https://sqlmap.org))))                                           1\n",
              "CPython/2.7.5                                                     1\n",
              "(https://sqlmap.org)\\x22                                          1\n",
              "(https://sqlmap.org)`)                                            1\n",
              "(https://sqlmap.org)\\x22=\\x22sqlmap/1.6.7#stable                  1\n",
              "/board/board_view                                                 1\n",
              "(https://sqlmap.org)\\x22)                                         1\n",
              "/data/skin/default_dart/images/da_image/bnr_main_play.jpg         1\n",
              "/login.cgi                                                        1\n",
              "WHERE                                                             1\n",
              "Name: count, dtype: int64"
            ],
            "text/html": [
              "<div>\n",
              "<style scoped>\n",
              "    .dataframe tbody tr th:only-of-type {\n",
              "        vertical-align: middle;\n",
              "    }\n",
              "\n",
              "    .dataframe tbody tr th {\n",
              "        vertical-align: top;\n",
              "    }\n",
              "\n",
              "    .dataframe thead th {\n",
              "        text-align: right;\n",
              "    }\n",
              "</style>\n",
              "<table border=\"1\" class=\"dataframe\">\n",
              "  <thead>\n",
              "    <tr style=\"text-align: right;\">\n",
              "      <th></th>\n",
              "      <th>count</th>\n",
              "    </tr>\n",
              "    <tr>\n",
              "      <th>payload</th>\n",
              "      <th></th>\n",
              "    </tr>\n",
              "  </thead>\n",
              "  <tbody>\n",
              "    <tr>\n",
              "      <th>(Hydra)</th>\n",
              "      <td>126385</td>\n",
              "    </tr>\n",
              "    <tr>\n",
              "      <th>(Windows</th>\n",
              "      <td>29911</td>\n",
              "    </tr>\n",
              "    <tr>\n",
              "      <th>(Gecko)</th>\n",
              "      <td>22840</td>\n",
              "    </tr>\n",
              "    <tr>\n",
              "      <th>(https://sqlmap.org)</th>\n",
              "      <td>12987</td>\n",
              "    </tr>\n",
              "    <tr>\n",
              "      <th>(compatible;</th>\n",
              "      <td>7740</td>\n",
              "    </tr>\n",
              "    <tr>\n",
              "      <th>(Linux</th>\n",
              "      <td>4950</td>\n",
              "    </tr>\n",
              "    <tr>\n",
              "      <th>(Nikto/2.1.6)</th>\n",
              "      <td>4543</td>\n",
              "    </tr>\n",
              "    <tr>\n",
              "      <th>(Intel</th>\n",
              "      <td>1610</td>\n",
              "    </tr>\n",
              "    <tr>\n",
              "      <th>(X11;</th>\n",
              "      <td>1594</td>\n",
              "    </tr>\n",
              "    <tr>\n",
              "      <th>(Macintosh;</th>\n",
              "      <td>1223</td>\n",
              "    </tr>\n",
              "    <tr>\n",
              "      <th>(68K;</th>\n",
              "      <td>1079</td>\n",
              "    </tr>\n",
              "    <tr>\n",
              "      <th>(PPC)</th>\n",
              "      <td>981</td>\n",
              "    </tr>\n",
              "    <tr>\n",
              "      <th>(68K)</th>\n",
              "      <td>897</td>\n",
              "    </tr>\n",
              "    <tr>\n",
              "      <th>(PPC;</th>\n",
              "      <td>697</td>\n",
              "    </tr>\n",
              "    <tr>\n",
              "      <th>(Linux;</th>\n",
              "      <td>535</td>\n",
              "    </tr>\n",
              "    <tr>\n",
              "      <th>(Win</th>\n",
              "      <td>302</td>\n",
              "    </tr>\n",
              "    <tr>\n",
              "      <th>(WindowsCE)</th>\n",
              "      <td>209</td>\n",
              "    </tr>\n",
              "    <tr>\n",
              "      <th>(Win3.11;</th>\n",
              "      <td>191</td>\n",
              "    </tr>\n",
              "    <tr>\n",
              "      <th>(WinNT3.51)</th>\n",
              "      <td>180</td>\n",
              "    </tr>\n",
              "    <tr>\n",
              "      <th>(iPhone;</th>\n",
              "      <td>180</td>\n",
              "    </tr>\n",
              "    <tr>\n",
              "      <th>(WinNT3.51;</th>\n",
              "      <td>162</td>\n",
              "    </tr>\n",
              "    <tr>\n",
              "      <th>(WinNT4.0;</th>\n",
              "      <td>156</td>\n",
              "    </tr>\n",
              "    <tr>\n",
              "      <th>(WindowsCE;</th>\n",
              "      <td>137</td>\n",
              "    </tr>\n",
              "    <tr>\n",
              "      <th>(Win3.11)</th>\n",
              "      <td>133</td>\n",
              "    </tr>\n",
              "    <tr>\n",
              "      <th>(WinNT4.0)</th>\n",
              "      <td>85</td>\n",
              "    </tr>\n",
              "    <tr>\n",
              "      <th>(Windows;</th>\n",
              "      <td>73</td>\n",
              "    </tr>\n",
              "    <tr>\n",
              "      <th>(iPad;</th>\n",
              "      <td>44</td>\n",
              "    </tr>\n",
              "    <tr>\n",
              "      <th>/setup.cgi</th>\n",
              "      <td>43</td>\n",
              "    </tr>\n",
              "    <tr>\n",
              "      <th>/j_spring_security_check</th>\n",
              "      <td>34</td>\n",
              "    </tr>\n",
              "    <tr>\n",
              "      <th>(iPod;</th>\n",
              "      <td>33</td>\n",
              "    </tr>\n",
              "    <tr>\n",
              "      <th>world</th>\n",
              "      <td>12</td>\n",
              "    </tr>\n",
              "    <tr>\n",
              "      <th>(http://sqlmap.org)</th>\n",
              "      <td>8</td>\n",
              "    </tr>\n",
              "    <tr>\n",
              "      <th>AppleWebKit/537.36</th>\n",
              "      <td>7</td>\n",
              "    </tr>\n",
              "    <tr>\n",
              "      <th>ORDER</th>\n",
              "      <td>6</td>\n",
              "    </tr>\n",
              "    <tr>\n",
              "      <th>(SymbianOS/9.1;</th>\n",
              "      <td>3</td>\n",
              "    </tr>\n",
              "    <tr>\n",
              "      <th>(https://sqlmap.org)'</th>\n",
              "      <td>2</td>\n",
              "    </tr>\n",
              "    <tr>\n",
              "      <th>/board/board_write</th>\n",
              "      <td>2</td>\n",
              "    </tr>\n",
              "    <tr>\n",
              "      <th>(https://sqlmap.org)+(SELECT</th>\n",
              "      <td>2</td>\n",
              "    </tr>\n",
              "    <tr>\n",
              "      <th>/fileRequest/download</th>\n",
              "      <td>2</td>\n",
              "    </tr>\n",
              "    <tr>\n",
              "      <th>(https://sqlmap.org)))</th>\n",
              "      <td>2</td>\n",
              "    </tr>\n",
              "    <tr>\n",
              "      <th>/board/board_list</th>\n",
              "      <td>2</td>\n",
              "    </tr>\n",
              "    <tr>\n",
              "      <th>(https://sqlmap.org))</th>\n",
              "      <td>1</td>\n",
              "    </tr>\n",
              "    <tr>\n",
              "      <th>/shell</th>\n",
              "      <td>1</td>\n",
              "    </tr>\n",
              "    <tr>\n",
              "      <th>(https://sqlmap.org)')</th>\n",
              "      <td>1</td>\n",
              "    </tr>\n",
              "    <tr>\n",
              "      <th>(https://sqlmap.org)\\x22))</th>\n",
              "      <td>1</td>\n",
              "    </tr>\n",
              "    <tr>\n",
              "      <th>/data/goods/1/2022/10/_temp_16660731198066list1.png</th>\n",
              "      <td>1</td>\n",
              "    </tr>\n",
              "    <tr>\n",
              "      <th>(https://sqlmap.org)`</th>\n",
              "      <td>1</td>\n",
              "    </tr>\n",
              "    <tr>\n",
              "      <th>(https://sqlmap.org)]-(SELECT</th>\n",
              "      <td>1</td>\n",
              "    </tr>\n",
              "    <tr>\n",
              "      <th>(Maemo;</th>\n",
              "      <td>1</td>\n",
              "    </tr>\n",
              "    <tr>\n",
              "      <th>(https://sqlmap.org))))</th>\n",
              "      <td>1</td>\n",
              "    </tr>\n",
              "    <tr>\n",
              "      <th>CPython/2.7.5</th>\n",
              "      <td>1</td>\n",
              "    </tr>\n",
              "    <tr>\n",
              "      <th>(https://sqlmap.org)\\x22</th>\n",
              "      <td>1</td>\n",
              "    </tr>\n",
              "    <tr>\n",
              "      <th>(https://sqlmap.org)`)</th>\n",
              "      <td>1</td>\n",
              "    </tr>\n",
              "    <tr>\n",
              "      <th>(https://sqlmap.org)\\x22=\\x22sqlmap/1.6.7#stable</th>\n",
              "      <td>1</td>\n",
              "    </tr>\n",
              "    <tr>\n",
              "      <th>/board/board_view</th>\n",
              "      <td>1</td>\n",
              "    </tr>\n",
              "    <tr>\n",
              "      <th>(https://sqlmap.org)\\x22)</th>\n",
              "      <td>1</td>\n",
              "    </tr>\n",
              "    <tr>\n",
              "      <th>/data/skin/default_dart/images/da_image/bnr_main_play.jpg</th>\n",
              "      <td>1</td>\n",
              "    </tr>\n",
              "    <tr>\n",
              "      <th>/login.cgi</th>\n",
              "      <td>1</td>\n",
              "    </tr>\n",
              "    <tr>\n",
              "      <th>WHERE</th>\n",
              "      <td>1</td>\n",
              "    </tr>\n",
              "  </tbody>\n",
              "</table>\n",
              "</div><br><label><b>dtype:</b> int64</label>"
            ]
          },
          "metadata": {},
          "execution_count": 11
        }
      ]
    },
    {
      "cell_type": "code",
      "source": [
        "data['payload'].str.split().str[4].value_counts()"
      ],
      "metadata": {
        "colab": {
          "base_uri": "https://localhost:8080/",
          "height": 490
        },
        "id": "YzwCsjs7nsic",
        "outputId": "fb9b9ef2-34cd-48e4-e6b6-a40c150a0d90"
      },
      "id": "YzwCsjs7nsic",
      "execution_count": null,
      "outputs": [
        {
          "output_type": "execute_result",
          "data": {
            "text/plain": [
              "payload\n",
              "/admin/login                                                        125833\n",
              "NT                                                                   28944\n",
              "Arachni/v10.0.0.80                                                   22840\n",
              "MSIE                                                                  7731\n",
              "/sub_04_1_read.php                                                    6844\n",
              "                                                                     ...  \n",
              "[j_username=jenkins&j_password=jenkinsadmin&Submit=Sign+in]              1\n",
              "/sub_03_1.php                                                            1\n",
              "[j_username=jenkinsadmin&j_password=jenkinsadmin&Submit=Sign+in]         1\n",
              "/sub_04_4.php                                                            1\n",
              "[j_username=admin&j_password=jenkinsadmin&Submit=Sign+in]                1\n",
              "Name: count, Length: 255, dtype: int64"
            ],
            "text/html": [
              "<div>\n",
              "<style scoped>\n",
              "    .dataframe tbody tr th:only-of-type {\n",
              "        vertical-align: middle;\n",
              "    }\n",
              "\n",
              "    .dataframe tbody tr th {\n",
              "        vertical-align: top;\n",
              "    }\n",
              "\n",
              "    .dataframe thead th {\n",
              "        text-align: right;\n",
              "    }\n",
              "</style>\n",
              "<table border=\"1\" class=\"dataframe\">\n",
              "  <thead>\n",
              "    <tr style=\"text-align: right;\">\n",
              "      <th></th>\n",
              "      <th>count</th>\n",
              "    </tr>\n",
              "    <tr>\n",
              "      <th>payload</th>\n",
              "      <th></th>\n",
              "    </tr>\n",
              "  </thead>\n",
              "  <tbody>\n",
              "    <tr>\n",
              "      <th>/admin/login</th>\n",
              "      <td>125833</td>\n",
              "    </tr>\n",
              "    <tr>\n",
              "      <th>NT</th>\n",
              "      <td>28944</td>\n",
              "    </tr>\n",
              "    <tr>\n",
              "      <th>Arachni/v10.0.0.80</th>\n",
              "      <td>22840</td>\n",
              "    </tr>\n",
              "    <tr>\n",
              "      <th>MSIE</th>\n",
              "      <td>7731</td>\n",
              "    </tr>\n",
              "    <tr>\n",
              "      <th>/sub_04_1_read.php</th>\n",
              "      <td>6844</td>\n",
              "    </tr>\n",
              "    <tr>\n",
              "      <th>...</th>\n",
              "      <td>...</td>\n",
              "    </tr>\n",
              "    <tr>\n",
              "      <th>[j_username=jenkins&amp;j_password=jenkinsadmin&amp;Submit=Sign+in]</th>\n",
              "      <td>1</td>\n",
              "    </tr>\n",
              "    <tr>\n",
              "      <th>/sub_03_1.php</th>\n",
              "      <td>1</td>\n",
              "    </tr>\n",
              "    <tr>\n",
              "      <th>[j_username=jenkinsadmin&amp;j_password=jenkinsadmin&amp;Submit=Sign+in]</th>\n",
              "      <td>1</td>\n",
              "    </tr>\n",
              "    <tr>\n",
              "      <th>/sub_04_4.php</th>\n",
              "      <td>1</td>\n",
              "    </tr>\n",
              "    <tr>\n",
              "      <th>[j_username=admin&amp;j_password=jenkinsadmin&amp;Submit=Sign+in]</th>\n",
              "      <td>1</td>\n",
              "    </tr>\n",
              "  </tbody>\n",
              "</table>\n",
              "<p>255 rows × 1 columns</p>\n",
              "</div><br><label><b>dtype:</b> int64</label>"
            ]
          },
          "metadata": {},
          "execution_count": 12
        }
      ]
    },
    {
      "cell_type": "code",
      "source": [
        "data['payload'].str.split().str[5].value_counts()"
      ],
      "metadata": {
        "colab": {
          "base_uri": "https://localhost:8080/",
          "height": 510
        },
        "id": "63CiMBJOnsbb",
        "outputId": "556786fc-e329-44f2-eb92-d848699434ab"
      },
      "id": "63CiMBJOnsbb",
      "execution_count": null,
      "outputs": [
        {
          "output_type": "execute_result",
          "data": {
            "text/plain": [
              "payload\n",
              "10.0;                                                                                                                                                                                                                                                                                                                                                                                                                                      25982\n",
              "/goods/goods_search                                                                                                                                                                                                                                                                                                                                                                                                                        20540\n",
              "[-]                                                                                                                                                                                                                                                                                                                                                                                                                                         8703\n",
              "[userid=admin&password=user868!!]                                                                                                                                                                                                                                                                                                                                                                                                           7833\n",
              "[userid=admin&password=user872!!]                                                                                                                                                                                                                                                                                                                                                                                                           7820\n",
              "                                                                                                                                                                                                                                                                                                                                                                                                                                           ...  \n",
              "[encrypt=p2&return_url=&userid=admin%27%29%20AND%208859%3DDBMS_UTILITY.SQLID_TO_SQLHASH%28%28CHR%28113%29%7C%7CCHR%28107%29%7C%7CCHR%28113%29%7C%7CCHR%28122%29%7C%7CCHR%28113%29%7C%7C%28SELECT%20%28CASE%20WHEN%20%288859%3D8859%29%20THEN%201%20ELSE%200%20END%29%20FROM%20DUAL%29%7C%7CCHR%28113%29%7C%7CCHR%2898%29%7C%7CCHR%28122%29%7C%7CCHR%28107%29%7C%7CCHR%28113%29%29%29%20AND%20%28%27fzcH%27%3D%27fzcH&password=password]        1\n",
              "[userid=test11&password=horse]                                                                                                                                                                                                                                                                                                                                                                                                                 1\n",
              "(Test:004649)                                                                                                                                                                                                                                                                                                                                                                                                                                  1\n",
              "AND                                                                                                                                                                                                                                                                                                                                                                                                                                            1\n",
              "[type=login&userid=admin%27%20AND%20ORD%28MID%28%28SELECT%20IFNULL%28CAST%28user_name%20AS%20NCHAR%29%2C0x20%29%20FROM%20domainabc109.members%20ORDER%20BY%20id%20LIMIT%205%2C1%29%2C3%2C1%29%29%3E2044%20AND%20%27NFZg%27%3D%27NFZg&password=123456]                                                                                                                                                                                          1\n",
              "Name: count, Length: 3883, dtype: int64"
            ],
            "text/html": [
              "<div>\n",
              "<style scoped>\n",
              "    .dataframe tbody tr th:only-of-type {\n",
              "        vertical-align: middle;\n",
              "    }\n",
              "\n",
              "    .dataframe tbody tr th {\n",
              "        vertical-align: top;\n",
              "    }\n",
              "\n",
              "    .dataframe thead th {\n",
              "        text-align: right;\n",
              "    }\n",
              "</style>\n",
              "<table border=\"1\" class=\"dataframe\">\n",
              "  <thead>\n",
              "    <tr style=\"text-align: right;\">\n",
              "      <th></th>\n",
              "      <th>count</th>\n",
              "    </tr>\n",
              "    <tr>\n",
              "      <th>payload</th>\n",
              "      <th></th>\n",
              "    </tr>\n",
              "  </thead>\n",
              "  <tbody>\n",
              "    <tr>\n",
              "      <th>10.0;</th>\n",
              "      <td>25982</td>\n",
              "    </tr>\n",
              "    <tr>\n",
              "      <th>/goods/goods_search</th>\n",
              "      <td>20540</td>\n",
              "    </tr>\n",
              "    <tr>\n",
              "      <th>[-]</th>\n",
              "      <td>8703</td>\n",
              "    </tr>\n",
              "    <tr>\n",
              "      <th>[userid=admin&amp;password=user868!!]</th>\n",
              "      <td>7833</td>\n",
              "    </tr>\n",
              "    <tr>\n",
              "      <th>[userid=admin&amp;password=user872!!]</th>\n",
              "      <td>7820</td>\n",
              "    </tr>\n",
              "    <tr>\n",
              "      <th>...</th>\n",
              "      <td>...</td>\n",
              "    </tr>\n",
              "    <tr>\n",
              "      <th>[encrypt=p2&amp;return_url=&amp;userid=admin%27%29%20AND%208859%3DDBMS_UTILITY.SQLID_TO_SQLHASH%28%28CHR%28113%29%7C%7CCHR%28107%29%7C%7CCHR%28113%29%7C%7CCHR%28122%29%7C%7CCHR%28113%29%7C%7C%28SELECT%20%28CASE%20WHEN%20%288859%3D8859%29%20THEN%201%20ELSE%200%20END%29%20FROM%20DUAL%29%7C%7CCHR%28113%29%7C%7CCHR%2898%29%7C%7CCHR%28122%29%7C%7CCHR%28107%29%7C%7CCHR%28113%29%29%29%20AND%20%28%27fzcH%27%3D%27fzcH&amp;password=password]</th>\n",
              "      <td>1</td>\n",
              "    </tr>\n",
              "    <tr>\n",
              "      <th>[userid=test11&amp;password=horse]</th>\n",
              "      <td>1</td>\n",
              "    </tr>\n",
              "    <tr>\n",
              "      <th>(Test:004649)</th>\n",
              "      <td>1</td>\n",
              "    </tr>\n",
              "    <tr>\n",
              "      <th>AND</th>\n",
              "      <td>1</td>\n",
              "    </tr>\n",
              "    <tr>\n",
              "      <th>[type=login&amp;userid=admin%27%20AND%20ORD%28MID%28%28SELECT%20IFNULL%28CAST%28user_name%20AS%20NCHAR%29%2C0x20%29%20FROM%20domainabc109.members%20ORDER%20BY%20id%20LIMIT%205%2C1%29%2C3%2C1%29%29%3E2044%20AND%20%27NFZg%27%3D%27NFZg&amp;password=123456]</th>\n",
              "      <td>1</td>\n",
              "    </tr>\n",
              "  </tbody>\n",
              "</table>\n",
              "<p>3883 rows × 1 columns</p>\n",
              "</div><br><label><b>dtype:</b> int64</label>"
            ]
          },
          "metadata": {},
          "execution_count": 13
        }
      ]
    },
    {
      "cell_type": "markdown",
      "source": [
        "### 2. 전처리"
      ],
      "metadata": {
        "id": "yRFm4wtcoPyK"
      },
      "id": "yRFm4wtcoPyK"
    },
    {
      "cell_type": "code",
      "execution_count": null,
      "id": "275dbab1-3e5c-4e02-bfe1-b5e4473bcf6b",
      "metadata": {
        "id": "275dbab1-3e5c-4e02-bfe1-b5e4473bcf6b"
      },
      "outputs": [],
      "source": [
        "# sqlmap\n",
        "def add_sql(data):\n",
        "    if data.lower().count('sqlmap'):\n",
        "        return 1\n",
        "    else:\n",
        "        return 0"
      ]
    },
    {
      "cell_type": "code",
      "execution_count": null,
      "id": "ae3f0b60-b5b6-47af-b422-7915ade71ab3",
      "metadata": {
        "id": "ae3f0b60-b5b6-47af-b422-7915ade71ab3"
      },
      "outputs": [],
      "source": [
        "# word\n",
        "def add_word(data):\n",
        "    if data.lower().count('hydra'):\n",
        "        num = 1\n",
        "    elif data.lower().count('linux'):\n",
        "        num = 2\n",
        "    elif data.lower().count('win'):\n",
        "        num = 3\n",
        "    elif data.lower().count('mac'):\n",
        "        num = 4\n",
        "    elif data.lower().count('nikto'):\n",
        "        num = 5\n",
        "    else:\n",
        "        num = 0\n",
        "    return num"
      ]
    },
    {
      "cell_type": "code",
      "execution_count": null,
      "id": "adb3afae-9102-4509-97db-2eb1c9fa1e4c",
      "metadata": {
        "id": "adb3afae-9102-4509-97db-2eb1c9fa1e4c"
      },
      "outputs": [],
      "source": [
        "# arachni\n",
        "def add_ar(data):\n",
        "    if data.lower().count('arachni'):\n",
        "        return 1\n",
        "    else:\n",
        "        return 0"
      ]
    },
    {
      "cell_type": "code",
      "execution_count": null,
      "id": "4ef21735-41ba-4962-8adc-6e4c2001424a",
      "metadata": {
        "id": "4ef21735-41ba-4962-8adc-6e4c2001424a"
      },
      "outputs": [],
      "source": [
        "# userid\n",
        "def add_uid(data):\n",
        "    if data.lower().count('userid'):\n",
        "        return 1\n",
        "    else:\n",
        "        return 0"
      ]
    },
    {
      "cell_type": "code",
      "execution_count": null,
      "id": "98e83811-f267-4084-ac92-665adfb05367",
      "metadata": {
        "id": "98e83811-f267-4084-ac92-665adfb05367"
      },
      "outputs": [],
      "source": [
        "# zap\n",
        "def add_zap(data):\n",
        "    if data.lower().count('zap'):\n",
        "        return 1\n",
        "    else:\n",
        "        return 0"
      ]
    },
    {
      "cell_type": "code",
      "execution_count": null,
      "id": "09d0da35-0564-4bcd-a804-a042cd65f7c0",
      "metadata": {
        "id": "09d0da35-0564-4bcd-a804-a042cd65f7c0"
      },
      "outputs": [],
      "source": [
        "# connector\n",
        "def add_con(data):\n",
        "    if data.lower().count('connector'):\n",
        "        return 1\n",
        "    else:\n",
        "        return 0"
      ]
    },
    {
      "cell_type": "code",
      "execution_count": null,
      "id": "72fa404f-7127-484f-8457-4e37f53a547f",
      "metadata": {
        "id": "72fa404f-7127-484f-8457-4e37f53a547f"
      },
      "outputs": [],
      "source": [
        "# applewebkit\n",
        "def add_apple(data):\n",
        "    if data.lower().count('applewebkit'):\n",
        "        return 1\n",
        "    else:\n",
        "        return 0"
      ]
    },
    {
      "cell_type": "code",
      "execution_count": null,
      "id": "ffb59316-7414-4a10-9de0-144474c28f56",
      "metadata": {
        "id": "ffb59316-7414-4a10-9de0-144474c28f56"
      },
      "outputs": [],
      "source": [
        "# 컬럼 만들기\n",
        "def prepro(data):\n",
        "    data['method'] = data['payload'].str.split().str[0] # method\n",
        "    data['ver'] = data['payload'].str.split().str[1]    # ver\n",
        "    data['sql'] = data['payload'].apply(add_sql)\n",
        "    data['word'] = data['payload'].apply(add_word)\n",
        "    data['ar'] = data['payload'].apply(add_ar)\n",
        "    data['uid'] = data['payload'].apply(add_uid)\n",
        "    data['connector'] = data['payload'].apply(add_con)\n",
        "    data['zap'] = data['payload'].apply(add_zap)\n",
        "    data['apple'] = data['payload'].apply(add_apple)\n",
        "\n",
        "    # http version 숫자화\n",
        "    ver_mapping = {'HTTP/1.1':0, 'HTTP/1.0':1}\n",
        "    data['ver'] = data['ver'].map(ver_mapping)\n",
        "\n",
        "    # method 숫자화\n",
        "    method_mapping = {'POST':0, 'GET':1}\n",
        "    data['method'] = data['method'].map(method_mapping)\n",
        "\n",
        "    # 데이터셋에서 컬럼 뽑아내 train 데이터 만들기\n",
        "    tr = data[['method', 'ver', 'word', 'uid', 'ar', 'sql', 'connector', 'zap', 'apple']]\n",
        "\n",
        "    # 라벨 컬럼 뽑아내기\n",
        "    if 'label_action' in data.columns:\n",
        "        tg = data['label_action']\n",
        "    else :\n",
        "        tg = []\n",
        "    return(tr, tg)"
      ]
    },
    {
      "cell_type": "markdown",
      "source": [
        "### 3. 모델학습"
      ],
      "metadata": {
        "id": "N0h2mngvtJWx"
      },
      "id": "N0h2mngvtJWx"
    },
    {
      "cell_type": "code",
      "execution_count": null,
      "id": "3ecd3106-146c-482c-be09-2aa9f0daa38d",
      "metadata": {
        "id": "3ecd3106-146c-482c-be09-2aa9f0daa38d"
      },
      "outputs": [],
      "source": [
        "# 학습 예측\n",
        "def learn_pred(tr, tg, classifier):\n",
        "    # stratify : 라벨 비율에 맞춰서 트레인 테스트 만듬\n",
        "    x_train, x_test, y_train, y_test = train_test_split(tr, tg, test_size=0.2, random_state=42, stratify=tg)\n",
        "\n",
        "    # 학습, 파라미터 튜닝X\n",
        "    model = classifier()\n",
        "    model.fit(x_train, y_train)\n",
        "    pred = model.predict(x_train)\n",
        "    print(classifier)\n",
        "    print(accuracy_score(pred, y_train))\n",
        "    print(x_train.columns)\n",
        "    # 예측\n",
        "    y_pred = model.predict(x_test)\n",
        "    print(accuracy_score(y_test, y_pred))\n",
        "    print(classification_report(y_test, y_pred))\n",
        "\n",
        "    return(model, y_pred)"
      ]
    },
    {
      "cell_type": "markdown",
      "source": [
        "#### RandomForestClassifier"
      ],
      "metadata": {
        "id": "Wrc0-W5jwLDi"
      },
      "id": "Wrc0-W5jwLDi"
    },
    {
      "cell_type": "code",
      "execution_count": null,
      "id": "c150b4b1-8d89-49b9-a04b-f4b505ea5866",
      "metadata": {
        "id": "c150b4b1-8d89-49b9-a04b-f4b505ea5866"
      },
      "outputs": [],
      "source": [
        "# 전처리 함수 실행, tr=train, tg=target\n",
        "tr, tg = prepro(data)"
      ]
    },
    {
      "cell_type": "code",
      "execution_count": null,
      "id": "61d9db87-7c44-456f-b6b8-a0c267a9a24e",
      "metadata": {
        "colab": {
          "base_uri": "https://localhost:8080/"
        },
        "id": "61d9db87-7c44-456f-b6b8-a0c267a9a24e",
        "outputId": "a4b8c570-f015-4608-a00e-6e4735276f76"
      },
      "outputs": [
        {
          "output_type": "stream",
          "name": "stdout",
          "text": [
            "<class 'sklearn.ensemble._forest.RandomForestClassifier'>\n",
            "0.9266704545454545\n",
            "Index(['method', 'ver', 'word', 'uid', 'ar', 'sql', 'connector', 'zap',\n",
            "       'apple'],\n",
            "      dtype='object')\n",
            "0.926340909090909\n",
            "                      precision    recall  f1-score   support\n",
            "\n",
            "         Brute_Force       0.99      1.00      0.99     27008\n",
            "Cross_Site_Scripting       0.55      0.87      0.67      3308\n",
            "       SQL_Injection       1.00      0.87      0.93      2505\n",
            "System_Cmd_Execution       1.00      0.02      0.04      2379\n",
            "              normal       0.93      0.99      0.96      8800\n",
            "\n",
            "            accuracy                           0.93     44000\n",
            "           macro avg       0.89      0.75      0.72     44000\n",
            "        weighted avg       0.95      0.93      0.91     44000\n",
            "\n"
          ]
        }
      ],
      "source": [
        "# 모델 학습시키고 예측 결과 출력\n",
        "model1, y_pred1 = learn_pred(tr, tg, RandomForestClassifier)"
      ]
    },
    {
      "cell_type": "code",
      "source": [
        "# RandomForest의 feature 중요도 - connector는 중요도가 낮지만 system_cmd를 분류하는데 큰 역할을 함\n",
        "importances1 = pd.Series(model1.feature_importances_, tr.columns)\n",
        "importances1.sort_values().plot.barh()"
      ],
      "metadata": {
        "colab": {
          "base_uri": "https://localhost:8080/",
          "height": 448
        },
        "id": "etDe771dp9e7",
        "outputId": "d116dbcd-8e7a-4442-b314-e2327b2ca0c9"
      },
      "id": "etDe771dp9e7",
      "execution_count": null,
      "outputs": [
        {
          "output_type": "execute_result",
          "data": {
            "text/plain": [
              "<Axes: >"
            ]
          },
          "metadata": {},
          "execution_count": 16
        },
        {
          "output_type": "display_data",
          "data": {
            "text/plain": [
              "<Figure size 640x480 with 1 Axes>"
            ],
            "image/png": "[encoded data removed]"
          },
          "metadata": {}
        }
      ]
    },
    {
      "cell_type": "markdown",
      "source": [
        "#### LogisticRegression"
      ],
      "metadata": {
        "id": "Tt9x06qFwHch"
      },
      "id": "Tt9x06qFwHch"
    },
    {
      "cell_type": "code",
      "execution_count": null,
      "id": "caf23057-c597-499c-9377-f4b44407687d",
      "metadata": {
        "id": "caf23057-c597-499c-9377-f4b44407687d",
        "outputId": "32cf6c63-76f3-4213-e5b0-9f2f1998f343",
        "colab": {
          "base_uri": "https://localhost:8080/"
        }
      },
      "outputs": [
        {
          "output_type": "stream",
          "name": "stderr",
          "text": [
            "/usr/local/lib/python3.10/dist-packages/sklearn/linear_model/_logistic.py:469: ConvergenceWarning: lbfgs failed to converge (status=1):\n",
            "STOP: TOTAL NO. of ITERATIONS REACHED LIMIT.\n",
            "\n",
            "Increase the number of iterations (max_iter) or scale the data as shown in:\n",
            "    https://scikit-learn.org/stable/modules/preprocessing.html\n",
            "Please also refer to the documentation for alternative solver options:\n",
            "    https://scikit-learn.org/stable/modules/linear_model.html#logistic-regression\n",
            "  n_iter_i = _check_optimize_result(\n"
          ]
        },
        {
          "output_type": "stream",
          "name": "stdout",
          "text": [
            "<class 'sklearn.linear_model._logistic.LogisticRegression'>\n",
            "0.9164943181818181\n",
            "Index(['method', 'ver', 'word', 'uid', 'ar', 'sql', 'connector', 'zap',\n",
            "       'apple'],\n",
            "      dtype='object')\n",
            "0.9171136363636364\n",
            "                      precision    recall  f1-score   support\n",
            "\n",
            "         Brute_Force       0.99      0.99      0.99     27008\n",
            "Cross_Site_Scripting       0.52      0.87      0.65      3308\n",
            "       SQL_Injection       1.00      0.87      0.93      2505\n",
            "System_Cmd_Execution       1.00      0.02      0.04      2379\n",
            "              normal       0.92      0.96      0.94      8800\n",
            "\n",
            "            accuracy                           0.92     44000\n",
            "           macro avg       0.89      0.74      0.71     44000\n",
            "        weighted avg       0.94      0.92      0.90     44000\n",
            "\n"
          ]
        }
      ],
      "source": [
        "# LogisticRegression\n",
        "model2, y_pred2 = learn_pred(tr, tg, LogisticRegression)"
      ]
    },
    {
      "cell_type": "markdown",
      "source": [
        "#### XGBOOST"
      ],
      "metadata": {
        "id": "f_xg1YbrwD66"
      },
      "id": "f_xg1YbrwD66"
    },
    {
      "cell_type": "code",
      "source": [
        "# xgboost를 위한 라벨 매핑\n",
        "label_mapping = {'Brute_Force':0, 'normal':1, 'Cross_Site_Scripting':2, 'System_Cmd_Execution':3, 'SQL_Injection':4}\n",
        "tg_mapping = tg.map(label_mapping)\n",
        "tg_mapping"
      ],
      "metadata": {
        "colab": {
          "base_uri": "https://localhost:8080/",
          "height": 458
        },
        "id": "C5Ktkep5tXkk",
        "outputId": "1181c110-426a-4734-e84d-b912de024e1f"
      },
      "id": "C5Ktkep5tXkk",
      "execution_count": null,
      "outputs": [
        {
          "output_type": "execute_result",
          "data": {
            "text/plain": [
              "0         0\n",
              "1         0\n",
              "2         1\n",
              "3         3\n",
              "4         0\n",
              "         ..\n",
              "219995    1\n",
              "219996    2\n",
              "219997    0\n",
              "219998    0\n",
              "219999    0\n",
              "Name: label_action, Length: 220000, dtype: int64"
            ],
            "text/html": [
              "<div>\n",
              "<style scoped>\n",
              "    .dataframe tbody tr th:only-of-type {\n",
              "        vertical-align: middle;\n",
              "    }\n",
              "\n",
              "    .dataframe tbody tr th {\n",
              "        vertical-align: top;\n",
              "    }\n",
              "\n",
              "    .dataframe thead th {\n",
              "        text-align: right;\n",
              "    }\n",
              "</style>\n",
              "<table border=\"1\" class=\"dataframe\">\n",
              "  <thead>\n",
              "    <tr style=\"text-align: right;\">\n",
              "      <th></th>\n",
              "      <th>label_action</th>\n",
              "    </tr>\n",
              "  </thead>\n",
              "  <tbody>\n",
              "    <tr>\n",
              "      <th>0</th>\n",
              "      <td>0</td>\n",
              "    </tr>\n",
              "    <tr>\n",
              "      <th>1</th>\n",
              "      <td>0</td>\n",
              "    </tr>\n",
              "    <tr>\n",
              "      <th>2</th>\n",
              "      <td>1</td>\n",
              "    </tr>\n",
              "    <tr>\n",
              "      <th>3</th>\n",
              "      <td>3</td>\n",
              "    </tr>\n",
              "    <tr>\n",
              "      <th>4</th>\n",
              "      <td>0</td>\n",
              "    </tr>\n",
              "    <tr>\n",
              "      <th>...</th>\n",
              "      <td>...</td>\n",
              "    </tr>\n",
              "    <tr>\n",
              "      <th>219995</th>\n",
              "      <td>1</td>\n",
              "    </tr>\n",
              "    <tr>\n",
              "      <th>219996</th>\n",
              "      <td>2</td>\n",
              "    </tr>\n",
              "    <tr>\n",
              "      <th>219997</th>\n",
              "      <td>0</td>\n",
              "    </tr>\n",
              "    <tr>\n",
              "      <th>219998</th>\n",
              "      <td>0</td>\n",
              "    </tr>\n",
              "    <tr>\n",
              "      <th>219999</th>\n",
              "      <td>0</td>\n",
              "    </tr>\n",
              "  </tbody>\n",
              "</table>\n",
              "<p>220000 rows × 1 columns</p>\n",
              "</div><br><label><b>dtype:</b> int64</label>"
            ]
          },
          "metadata": {},
          "execution_count": 30
        }
      ]
    },
    {
      "cell_type": "code",
      "source": [
        "# xgboost\n",
        "model3, y_pred3 = learn_pred(tr, tg_mapping, XGBClassifier)"
      ],
      "metadata": {
        "colab": {
          "base_uri": "https://localhost:8080/"
        },
        "id": "fYtv_6__sX50",
        "outputId": "5614e3da-6a25-44ca-a51b-4e980f158b1c"
      },
      "id": "fYtv_6__sX50",
      "execution_count": null,
      "outputs": [
        {
          "output_type": "stream",
          "name": "stdout",
          "text": [
            "<class 'xgboost.sklearn.XGBClassifier'>\n",
            "0.9267102272727272\n",
            "Index(['method', 'ver', 'word', 'uid', 'ar', 'sql', 'connector', 'zap',\n",
            "       'apple'],\n",
            "      dtype='object')\n",
            "0.9261818181818182\n",
            "              precision    recall  f1-score   support\n",
            "\n",
            "           0       0.99      1.00      0.99     27008\n",
            "           1       0.93      0.99      0.96      8800\n",
            "           2       0.55      0.87      0.67      3308\n",
            "           3       1.00      0.02      0.04      2379\n",
            "           4       1.00      0.87      0.93      2505\n",
            "\n",
            "    accuracy                           0.93     44000\n",
            "   macro avg       0.89      0.75      0.72     44000\n",
            "weighted avg       0.95      0.93      0.91     44000\n",
            "\n"
          ]
        }
      ]
    },
    {
      "cell_type": "code",
      "execution_count": null,
      "id": "4cd649ea-86fd-4172-9588-6c7d70262f68",
      "metadata": {
        "id": "4cd649ea-86fd-4172-9588-6c7d70262f68"
      },
      "outputs": [],
      "source": [
        "# test데이터 불러오기, tg2는 의미 없음\n",
        "test_data = pd.read_csv('/content/drive/MyDrive/보안관제/testset.csv')\n",
        "tr2, tg2 = prepro(test_data)"
      ]
    },
    {
      "cell_type": "code",
      "execution_count": null,
      "id": "343f0a2a-3d43-4468-9fe3-dd0e16e8daee",
      "metadata": {
        "id": "343f0a2a-3d43-4468-9fe3-dd0e16e8daee"
      },
      "outputs": [],
      "source": [
        "# RandomForest\n",
        "test_pred1 = model1.predict(tr2)\n",
        "result_RF = pd.DataFrame(test_pred1, columns = ['label_action'])\n",
        "result_RF.to_csv('result_RF.csv', index=False)"
      ]
    },
    {
      "cell_type": "code",
      "execution_count": null,
      "id": "75d51d4f-7757-4de5-b325-741288d89efb",
      "metadata": {
        "id": "75d51d4f-7757-4de5-b325-741288d89efb"
      },
      "outputs": [],
      "source": [
        "# LogisticRegression\n",
        "test_pred2 = model2.predict(tr2)\n",
        "result_LR = pd.DataFrame(test_pred2, columns = ['label_action'])\n",
        "result_LR.to_csv('result_LR.csv', index=False)"
      ]
    },
    {
      "cell_type": "code",
      "execution_count": null,
      "id": "068641d6-70ac-4d3b-8bfe-c08b3fb91742",
      "metadata": {
        "id": "068641d6-70ac-4d3b-8bfe-c08b3fb91742"
      },
      "outputs": [],
      "source": [
        "# XGBoost\n",
        "test_pred3 = model3.predict(tr2)\n",
        "result_XGB = pd.DataFrame(test_pred3, columns = ['label_action'])\n",
        "result_XGB.to_csv('result_XGB.csv', index=False)"
      ]
    }
  ],
  "metadata": {
    "kernelspec": {
      "display_name": "Python 3 (ipykernel)",
      "language": "python",
      "name": "python3"
    },
    "language_info": {
      "codemirror_mode": {
        "name": "ipython",
        "version": 3
      },
      "file_extension": ".py",
      "mimetype": "text/x-python",
      "name": "python",
      "nbconvert_exporter": "python",
      "pygments_lexer": "ipython3",
      "version": "3.12.7"
    },
    "colab": {
      "provenance": [],
      "toc_visible": true,
      "name": "AI-Based Network Attack Classification.ipynb",
      "include_colab_link": true
    }
  },
  "nbformat": 4,
  "nbformat_minor": 5
}